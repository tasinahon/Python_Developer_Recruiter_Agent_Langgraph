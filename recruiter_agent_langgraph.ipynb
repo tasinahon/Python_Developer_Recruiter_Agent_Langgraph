{
  "cells": [
    {
      "cell_type": "code",
      "execution_count": 1,
      "metadata": {
        "colab": {
          "base_uri": "https://localhost:8080/"
        },
        "id": "DDwEm5Hni_aE",
        "outputId": "293af099-02a1-4c28-da9a-03f4c5b2c6b1"
      },
      "outputs": [
        {
          "name": "stdout",
          "output_type": "stream",
          "text": [
            "Requirement already satisfied: langchain in /usr/local/lib/python3.11/dist-packages (0.3.21)\n",
            "Requirement already satisfied: langchain_core in /usr/local/lib/python3.11/dist-packages (0.3.47)\n",
            "Requirement already satisfied: langchain_community in /usr/local/lib/python3.11/dist-packages (0.3.20)\n",
            "Requirement already satisfied: langgraph in /usr/local/lib/python3.11/dist-packages (0.3.21)\n",
            "Requirement already satisfied: langchain-text-splitters<1.0.0,>=0.3.7 in /usr/local/lib/python3.11/dist-packages (from langchain) (0.3.7)\n",
            "Requirement already satisfied: langsmith<0.4,>=0.1.17 in /usr/local/lib/python3.11/dist-packages (from langchain) (0.3.18)\n",
            "Requirement already satisfied: pydantic<3.0.0,>=2.7.4 in /usr/local/lib/python3.11/dist-packages (from langchain) (2.10.6)\n",
            "Requirement already satisfied: SQLAlchemy<3,>=1.4 in /usr/local/lib/python3.11/dist-packages (from langchain) (2.0.39)\n",
            "Requirement already satisfied: requests<3,>=2 in /usr/local/lib/python3.11/dist-packages (from langchain) (2.32.3)\n",
            "Requirement already satisfied: PyYAML>=5.3 in /usr/local/lib/python3.11/dist-packages (from langchain) (6.0.2)\n",
            "Requirement already satisfied: tenacity!=8.4.0,<10.0.0,>=8.1.0 in /usr/local/lib/python3.11/dist-packages (from langchain_core) (9.0.0)\n",
            "Requirement already satisfied: jsonpatch<2.0,>=1.33 in /usr/local/lib/python3.11/dist-packages (from langchain_core) (1.33)\n",
            "Requirement already satisfied: packaging<25,>=23.2 in /usr/local/lib/python3.11/dist-packages (from langchain_core) (24.2)\n",
            "Requirement already satisfied: typing-extensions>=4.7 in /usr/local/lib/python3.11/dist-packages (from langchain_core) (4.12.2)\n",
            "Requirement already satisfied: aiohttp<4.0.0,>=3.8.3 in /usr/local/lib/python3.11/dist-packages (from langchain_community) (3.11.14)\n",
            "Requirement already satisfied: dataclasses-json<0.7,>=0.5.7 in /usr/local/lib/python3.11/dist-packages (from langchain_community) (0.6.7)\n",
            "Requirement already satisfied: pydantic-settings<3.0.0,>=2.4.0 in /usr/local/lib/python3.11/dist-packages (from langchain_community) (2.8.1)\n",
            "Requirement already satisfied: httpx-sse<1.0.0,>=0.4.0 in /usr/local/lib/python3.11/dist-packages (from langchain_community) (0.4.0)\n",
            "Requirement already satisfied: numpy<3,>=1.26.2 in /usr/local/lib/python3.11/dist-packages (from langchain_community) (2.0.2)\n",
            "Requirement already satisfied: langgraph-checkpoint<3.0.0,>=2.0.10 in /usr/local/lib/python3.11/dist-packages (from langgraph) (2.0.23)\n",
            "Requirement already satisfied: langgraph-prebuilt<0.2,>=0.1.1 in /usr/local/lib/python3.11/dist-packages (from langgraph) (0.1.7)\n",
            "Requirement already satisfied: langgraph-sdk<0.2.0,>=0.1.42 in /usr/local/lib/python3.11/dist-packages (from langgraph) (0.1.60)\n",
            "Requirement already satisfied: xxhash<4.0.0,>=3.5.0 in /usr/local/lib/python3.11/dist-packages (from langgraph) (3.5.0)\n",
            "Requirement already satisfied: aiohappyeyeballs>=2.3.0 in /usr/local/lib/python3.11/dist-packages (from aiohttp<4.0.0,>=3.8.3->langchain_community) (2.6.1)\n",
            "Requirement already satisfied: aiosignal>=1.1.2 in /usr/local/lib/python3.11/dist-packages (from aiohttp<4.0.0,>=3.8.3->langchain_community) (1.3.2)\n",
            "Requirement already satisfied: attrs>=17.3.0 in /usr/local/lib/python3.11/dist-packages (from aiohttp<4.0.0,>=3.8.3->langchain_community) (25.3.0)\n",
            "Requirement already satisfied: frozenlist>=1.1.1 in /usr/local/lib/python3.11/dist-packages (from aiohttp<4.0.0,>=3.8.3->langchain_community) (1.5.0)\n",
            "Requirement already satisfied: multidict<7.0,>=4.5 in /usr/local/lib/python3.11/dist-packages (from aiohttp<4.0.0,>=3.8.3->langchain_community) (6.2.0)\n",
            "Requirement already satisfied: propcache>=0.2.0 in /usr/local/lib/python3.11/dist-packages (from aiohttp<4.0.0,>=3.8.3->langchain_community) (0.3.0)\n",
            "Requirement already satisfied: yarl<2.0,>=1.17.0 in /usr/local/lib/python3.11/dist-packages (from aiohttp<4.0.0,>=3.8.3->langchain_community) (1.18.3)\n",
            "Requirement already satisfied: marshmallow<4.0.0,>=3.18.0 in /usr/local/lib/python3.11/dist-packages (from dataclasses-json<0.7,>=0.5.7->langchain_community) (3.26.1)\n",
            "Requirement already satisfied: typing-inspect<1,>=0.4.0 in /usr/local/lib/python3.11/dist-packages (from dataclasses-json<0.7,>=0.5.7->langchain_community) (0.9.0)\n",
            "Requirement already satisfied: jsonpointer>=1.9 in /usr/local/lib/python3.11/dist-packages (from jsonpatch<2.0,>=1.33->langchain_core) (3.0.0)\n",
            "Requirement already satisfied: ormsgpack<2.0.0,>=1.8.0 in /usr/local/lib/python3.11/dist-packages (from langgraph-checkpoint<3.0.0,>=2.0.10->langgraph) (1.9.1)\n",
            "Requirement already satisfied: httpx>=0.25.2 in /usr/local/lib/python3.11/dist-packages (from langgraph-sdk<0.2.0,>=0.1.42->langgraph) (0.28.1)\n",
            "Requirement already satisfied: orjson>=3.10.1 in /usr/local/lib/python3.11/dist-packages (from langgraph-sdk<0.2.0,>=0.1.42->langgraph) (3.10.15)\n",
            "Requirement already satisfied: requests-toolbelt<2.0.0,>=1.0.0 in /usr/local/lib/python3.11/dist-packages (from langsmith<0.4,>=0.1.17->langchain) (1.0.0)\n",
            "Requirement already satisfied: zstandard<0.24.0,>=0.23.0 in /usr/local/lib/python3.11/dist-packages (from langsmith<0.4,>=0.1.17->langchain) (0.23.0)\n",
            "Requirement already satisfied: annotated-types>=0.6.0 in /usr/local/lib/python3.11/dist-packages (from pydantic<3.0.0,>=2.7.4->langchain) (0.7.0)\n",
            "Requirement already satisfied: pydantic-core==2.27.2 in /usr/local/lib/python3.11/dist-packages (from pydantic<3.0.0,>=2.7.4->langchain) (2.27.2)\n",
            "Requirement already satisfied: python-dotenv>=0.21.0 in /usr/local/lib/python3.11/dist-packages (from pydantic-settings<3.0.0,>=2.4.0->langchain_community) (1.1.0)\n",
            "Requirement already satisfied: charset-normalizer<4,>=2 in /usr/local/lib/python3.11/dist-packages (from requests<3,>=2->langchain) (3.4.1)\n",
            "Requirement already satisfied: idna<4,>=2.5 in /usr/local/lib/python3.11/dist-packages (from requests<3,>=2->langchain) (3.10)\n",
            "Requirement already satisfied: urllib3<3,>=1.21.1 in /usr/local/lib/python3.11/dist-packages (from requests<3,>=2->langchain) (2.3.0)\n",
            "Requirement already satisfied: certifi>=2017.4.17 in /usr/local/lib/python3.11/dist-packages (from requests<3,>=2->langchain) (2025.1.31)\n",
            "Requirement already satisfied: greenlet!=0.4.17 in /usr/local/lib/python3.11/dist-packages (from SQLAlchemy<3,>=1.4->langchain) (3.1.1)\n",
            "Requirement already satisfied: anyio in /usr/local/lib/python3.11/dist-packages (from httpx>=0.25.2->langgraph-sdk<0.2.0,>=0.1.42->langgraph) (4.9.0)\n",
            "Requirement already satisfied: httpcore==1.* in /usr/local/lib/python3.11/dist-packages (from httpx>=0.25.2->langgraph-sdk<0.2.0,>=0.1.42->langgraph) (1.0.7)\n",
            "Requirement already satisfied: h11<0.15,>=0.13 in /usr/local/lib/python3.11/dist-packages (from httpcore==1.*->httpx>=0.25.2->langgraph-sdk<0.2.0,>=0.1.42->langgraph) (0.14.0)\n",
            "Requirement already satisfied: mypy-extensions>=0.3.0 in /usr/local/lib/python3.11/dist-packages (from typing-inspect<1,>=0.4.0->dataclasses-json<0.7,>=0.5.7->langchain_community) (1.0.0)\n",
            "Requirement already satisfied: sniffio>=1.1 in /usr/local/lib/python3.11/dist-packages (from anyio->httpx>=0.25.2->langgraph-sdk<0.2.0,>=0.1.42->langgraph) (1.3.1)\n"
          ]
        }
      ],
      "source": [
        "!pip install langchain langchain_core langchain_community langgraph"
      ]
    },
    {
      "cell_type": "code",
      "execution_count": 2,
      "metadata": {
        "id": "oGvqUDsjjG5W"
      },
      "outputs": [],
      "source": [
        "from typing_extensions import TypedDict\n",
        "class State(TypedDict):\n",
        "  application: str\n",
        "  summary: str\n",
        "  experience_level: str\n",
        "  skill_match : str\n",
        "  response: str\n",
        "  email:str"
      ]
    },
    {
      "cell_type": "code",
      "execution_count": null,
      "metadata": {
        "colab": {
          "base_uri": "https://localhost:8080/"
        },
        "id": "EJBi-UM7kKpX",
        "outputId": "2bbc881f-bdc1-4a0c-9cad-5d128b85a7fa"
      },
      "outputs": [
        {
          "name": "stderr",
          "output_type": "stream",
          "text": [
            "Note: Environment variable`HF_TOKEN` is set and is the current active token independently from the token you've just configured.\n",
            "WARNING:huggingface_hub._login:Note: Environment variable`HF_TOKEN` is set and is the current active token independently from the token you've just configured.\n"
          ]
        }
      ],
      "source": []
    },
    {
      "cell_type": "code",
      "execution_count": 4,
      "metadata": {
        "colab": {
          "base_uri": "https://localhost:8080/"
        },
        "id": "MRyfbH3skRFy",
        "outputId": "a1ef9eba-95c6-42e9-a66f-971dd9e8e205"
      },
      "outputs": [
        {
          "name": "stdout",
          "output_type": "stream",
          "text": [
            "Requirement already satisfied: langchain_groq in /usr/local/lib/python3.11/dist-packages (0.3.1)\n",
            "Requirement already satisfied: langchain-core<1.0.0,>=0.3.47 in /usr/local/lib/python3.11/dist-packages (from langchain_groq) (0.3.47)\n",
            "Requirement already satisfied: groq<1,>=0.4.1 in /usr/local/lib/python3.11/dist-packages (from langchain_groq) (0.20.0)\n",
            "Requirement already satisfied: anyio<5,>=3.5.0 in /usr/local/lib/python3.11/dist-packages (from groq<1,>=0.4.1->langchain_groq) (4.9.0)\n",
            "Requirement already satisfied: distro<2,>=1.7.0 in /usr/local/lib/python3.11/dist-packages (from groq<1,>=0.4.1->langchain_groq) (1.9.0)\n",
            "Requirement already satisfied: httpx<1,>=0.23.0 in /usr/local/lib/python3.11/dist-packages (from groq<1,>=0.4.1->langchain_groq) (0.28.1)\n",
            "Requirement already satisfied: pydantic<3,>=1.9.0 in /usr/local/lib/python3.11/dist-packages (from groq<1,>=0.4.1->langchain_groq) (2.10.6)\n",
            "Requirement already satisfied: sniffio in /usr/local/lib/python3.11/dist-packages (from groq<1,>=0.4.1->langchain_groq) (1.3.1)\n",
            "Requirement already satisfied: typing-extensions<5,>=4.10 in /usr/local/lib/python3.11/dist-packages (from groq<1,>=0.4.1->langchain_groq) (4.12.2)\n",
            "Requirement already satisfied: langsmith<0.4,>=0.1.125 in /usr/local/lib/python3.11/dist-packages (from langchain-core<1.0.0,>=0.3.47->langchain_groq) (0.3.18)\n",
            "Requirement already satisfied: tenacity!=8.4.0,<10.0.0,>=8.1.0 in /usr/local/lib/python3.11/dist-packages (from langchain-core<1.0.0,>=0.3.47->langchain_groq) (9.0.0)\n",
            "Requirement already satisfied: jsonpatch<2.0,>=1.33 in /usr/local/lib/python3.11/dist-packages (from langchain-core<1.0.0,>=0.3.47->langchain_groq) (1.33)\n",
            "Requirement already satisfied: PyYAML>=5.3 in /usr/local/lib/python3.11/dist-packages (from langchain-core<1.0.0,>=0.3.47->langchain_groq) (6.0.2)\n",
            "Requirement already satisfied: packaging<25,>=23.2 in /usr/local/lib/python3.11/dist-packages (from langchain-core<1.0.0,>=0.3.47->langchain_groq) (24.2)\n",
            "Requirement already satisfied: idna>=2.8 in /usr/local/lib/python3.11/dist-packages (from anyio<5,>=3.5.0->groq<1,>=0.4.1->langchain_groq) (3.10)\n",
            "Requirement already satisfied: certifi in /usr/local/lib/python3.11/dist-packages (from httpx<1,>=0.23.0->groq<1,>=0.4.1->langchain_groq) (2025.1.31)\n",
            "Requirement already satisfied: httpcore==1.* in /usr/local/lib/python3.11/dist-packages (from httpx<1,>=0.23.0->groq<1,>=0.4.1->langchain_groq) (1.0.7)\n",
            "Requirement already satisfied: h11<0.15,>=0.13 in /usr/local/lib/python3.11/dist-packages (from httpcore==1.*->httpx<1,>=0.23.0->groq<1,>=0.4.1->langchain_groq) (0.14.0)\n",
            "Requirement already satisfied: jsonpointer>=1.9 in /usr/local/lib/python3.11/dist-packages (from jsonpatch<2.0,>=1.33->langchain-core<1.0.0,>=0.3.47->langchain_groq) (3.0.0)\n",
            "Requirement already satisfied: orjson<4.0.0,>=3.9.14 in /usr/local/lib/python3.11/dist-packages (from langsmith<0.4,>=0.1.125->langchain-core<1.0.0,>=0.3.47->langchain_groq) (3.10.15)\n",
            "Requirement already satisfied: requests<3,>=2 in /usr/local/lib/python3.11/dist-packages (from langsmith<0.4,>=0.1.125->langchain-core<1.0.0,>=0.3.47->langchain_groq) (2.32.3)\n",
            "Requirement already satisfied: requests-toolbelt<2.0.0,>=1.0.0 in /usr/local/lib/python3.11/dist-packages (from langsmith<0.4,>=0.1.125->langchain-core<1.0.0,>=0.3.47->langchain_groq) (1.0.0)\n",
            "Requirement already satisfied: zstandard<0.24.0,>=0.23.0 in /usr/local/lib/python3.11/dist-packages (from langsmith<0.4,>=0.1.125->langchain-core<1.0.0,>=0.3.47->langchain_groq) (0.23.0)\n",
            "Requirement already satisfied: annotated-types>=0.6.0 in /usr/local/lib/python3.11/dist-packages (from pydantic<3,>=1.9.0->groq<1,>=0.4.1->langchain_groq) (0.7.0)\n",
            "Requirement already satisfied: pydantic-core==2.27.2 in /usr/local/lib/python3.11/dist-packages (from pydantic<3,>=1.9.0->groq<1,>=0.4.1->langchain_groq) (2.27.2)\n",
            "Requirement already satisfied: charset-normalizer<4,>=2 in /usr/local/lib/python3.11/dist-packages (from requests<3,>=2->langsmith<0.4,>=0.1.125->langchain-core<1.0.0,>=0.3.47->langchain_groq) (3.4.1)\n",
            "Requirement already satisfied: urllib3<3,>=1.21.1 in /usr/local/lib/python3.11/dist-packages (from requests<3,>=2->langsmith<0.4,>=0.1.125->langchain-core<1.0.0,>=0.3.47->langchain_groq) (2.3.0)\n"
          ]
        }
      ],
      "source": [
        "!pip install langchain_groq\n"
      ]
    },
    {
      "cell_type": "code",
      "execution_count": 5,
      "metadata": {
        "id": "CaGt-DyrkVW9"
      },
      "outputs": [],
      "source": [
        "from langchain_groq import ChatGroq\n",
        "llm=ChatGroq(model_name=\"Gemma2-9b-It\")"
      ]
    },
    {
      "cell_type": "code",
      "execution_count": 6,
      "metadata": {
        "id": "T7LjIAJXkZTE"
      },
      "outputs": [],
      "source": [
        "from langgraph.graph import StateGraph, START, END\n",
        "from langchain_core.prompts import PromptTemplate"
      ]
    },
    {
      "cell_type": "code",
      "execution_count": 7,
      "metadata": {
        "id": "5CdQtxdfltYP"
      },
      "outputs": [],
      "source": [
        "def generate_summary(state: State) -> State:\n",
        "  print(\"\\nGenerating summary of resume : \")\n",
        "  prompt = PromptTemplate(\n",
        "      template= \"\"\"You are a professional HR assistant. Summarize the given resume in a structured format, highlighting key details.\"\n",
        "    \"\\n\\n### Resume Summary:\"\n",
        "    \"\\n- Name: <Extract candidate's name>\"\n",
        "    \"\\n- Email: <Extract email, phone number, LinkedIn profile>\"\n",
        "    \"\\n- Key Skills: List major skills relevant to the job\"\n",
        "    \"\\n- Work Experience: Summarize key roles and responsibilities\"\n",
        "    \"\\n- Education: Mention highest degree and institution\"\n",
        "    \"\\n- Certifications (if any): List relevant certifications\"\n",
        "    \"\\n- Notable Achievements: Highlight any key accomplishments\"\n",
        "    \"\\n\\n### Resume:\"\n",
        "      Application : {application}\n",
        "      Summary : \"\"\",\n",
        "      input_variables=[\"application\"]\n",
        "  )\n",
        "  chain = prompt | llm\n",
        "  summary = chain.invoke({\"application\": state[\"application\"]}).content\n",
        "  print(f\"Summary : {summary}\")\n",
        "  return {\"summary\" : summary}\n",
        "\n",
        "\n",
        "def categorize_experience(state: State) -> State:\n",
        "  print(\"\\nCategorizing the experience level of candidate : \")\n",
        "  prompt = PromptTemplate(\n",
        "      template=\"\"\"Based on the following summary of job application, categorize the candidate as 'Entry-level', 'Mid-level' or 'Senior-level'\n",
        "      Application Summary : {summary}\\n\n",
        "      Experience Level : \"\"\",\n",
        "      input_variables=[\"summary\"]\n",
        "  )\n",
        "  chain = prompt | llm\n",
        "  experience_level = chain.invoke({\"summary\": state[\"summary\"]}).content\n",
        "  print(f\"Experience Level : {experience_level}\")\n",
        "  return {\"experience_level\" : experience_level}\n",
        "\n",
        "def assess_skillset(state: State) -> State:\n",
        "  print(\"\\nAssessing the skillset of candidate : \")\n",
        "  prompt = PromptTemplate(\n",
        "      template=\"\"\"Based on the summary of job application for a Python Developer, assess the candidate's skillset\\n\n",
        "      Respond with either 'Match' or 'No Match'\n",
        "      Application Summary : {summary}\\n\n",
        "      Skill Match : \"\"\",\n",
        "      input_variables=[\"summary\"]\n",
        "  )\n",
        "  chain = prompt | llm\n",
        "  skill_match = chain.invoke({\"summary\": state[\"summary\"]}).content\n",
        "  print(f\"Skill Match : {skill_match}\")\n",
        "  return {\"skill_match\" : skill_match}\n",
        "\n",
        "def extract_email(state: State) -> State:\n",
        "  print(\"\\nExtracting the email of candidate : \")\n",
        "  prompt = PromptTemplate(\n",
        "        template=\"\"\"Extract the email address from the following job application summary.\n",
        "        Respond with **only the email address** and nothing else. Do not include any extra words, explanations, or formatting.Do not include ** at beginning and ending also.You must include @ in email address.\n",
        "\n",
        "        Application Summary: {summary}\n",
        "\n",
        "        Email: \"\"\",\n",
        "        input_variables=[\"summary\"]\n",
        "    )\n",
        "\n",
        "  chain = prompt | llm\n",
        "  email = chain.invoke({\"summary\": state[\"summary\"]}).content.strip()\n",
        "  print(f\"Email : {email}\")\n",
        "  return {\"email\" : email}\n",
        "\n",
        "def schedule_hr_interview(state: State) -> State:\n",
        "    recipient_email = state[\"email\"]\n",
        "    subject = \"Application Status Update\"\n",
        "    message = \"Dear Candidate,\\n\\nThank you for your application. After careful consideration, we are here to inform you that you have been selected for the HR interview.\\n\\n\"\n",
        "\n",
        "    send_email(sender_email=\"01788497275ahon1984@gmail.com\", recipient_email=recipient_email, subject=subject, message=message)\n",
        "\n",
        "    return {\"response\": \"Interview Selection Email\"}\n",
        "\n",
        "def escalate_to_recruiter(state: State) -> State:\n",
        "    recipient_email = state[\"email\"]\n",
        "    subject = \"Application Status Update\"\n",
        "    message = \"Dear Candidate,\\n\\nThank you for your application. After careful consideration, we like to inform you that you are a senior-level developer but your skills don't match with our requirement.So we want to take an interview with you.\\n\\n\"\n",
        "\n",
        "    send_email(sender_email=\"01788497275ahon1984@gmail.com\", recipient_email=recipient_email, subject=subject, message=message)\n",
        "\n",
        "    return {\"response\": \"Escalation to rcruiter\"}\n",
        "\n",
        "def reject_application(state: State) -> State:\n",
        "    recipient_email = state[\"email\"]\n",
        "    subject = \"Application Status Update\"\n",
        "    message = \"Dear Candidate,\\n\\nThank you for your application. After careful consideration, we regret to inform you that you have not been selected for the role. We appreciate your interest in our company and wish you the best in your job search.\\n\\n\"\n",
        "\n",
        "    send_email(sender_email=\"01788497275ahon1984@gmail.com\", recipient_email=recipient_email, subject=subject, message=message)\n",
        "\n",
        "    return {\"response\": \"Rejection email sent\"}\n",
        "\n"
      ]
    },
    {
      "cell_type": "code",
      "execution_count": null,
      "metadata": {
        "id": "ZqYeFG8vtT-2"
      },
      "outputs": [],
      "source": []
    },
    {
      "cell_type": "code",
      "execution_count": 8,
      "metadata": {
        "colab": {
          "base_uri": "https://localhost:8080/"
        },
        "id": "_pZTC5fBuozp",
        "outputId": "c6435c2f-0710-43c9-eabe-1cd4c3d886ff"
      },
      "outputs": [
        {
          "name": "stdout",
          "output_type": "stream",
          "text": [
            "Requirement already satisfied: yagmail in /usr/local/lib/python3.11/dist-packages (0.15.293)\n",
            "Requirement already satisfied: premailer in /usr/local/lib/python3.11/dist-packages (from yagmail) (3.10.0)\n",
            "Requirement already satisfied: lxml in /usr/local/lib/python3.11/dist-packages (from premailer->yagmail) (5.3.1)\n",
            "Requirement already satisfied: cssselect in /usr/local/lib/python3.11/dist-packages (from premailer->yagmail) (1.3.0)\n",
            "Requirement already satisfied: cssutils in /usr/local/lib/python3.11/dist-packages (from premailer->yagmail) (2.11.1)\n",
            "Requirement already satisfied: requests in /usr/local/lib/python3.11/dist-packages (from premailer->yagmail) (2.32.3)\n",
            "Requirement already satisfied: cachetools in /usr/local/lib/python3.11/dist-packages (from premailer->yagmail) (5.5.2)\n",
            "Requirement already satisfied: more-itertools in /usr/local/lib/python3.11/dist-packages (from cssutils->premailer->yagmail) (10.6.0)\n",
            "Requirement already satisfied: charset-normalizer<4,>=2 in /usr/local/lib/python3.11/dist-packages (from requests->premailer->yagmail) (3.4.1)\n",
            "Requirement already satisfied: idna<4,>=2.5 in /usr/local/lib/python3.11/dist-packages (from requests->premailer->yagmail) (3.10)\n",
            "Requirement already satisfied: urllib3<3,>=1.21.1 in /usr/local/lib/python3.11/dist-packages (from requests->premailer->yagmail) (2.3.0)\n",
            "Requirement already satisfied: certifi>=2017.4.17 in /usr/local/lib/python3.11/dist-packages (from requests->premailer->yagmail) (2025.1.31)\n"
          ]
        }
      ],
      "source": [
        "!pip install yagmail\n"
      ]
    },
    {
      "cell_type": "code",
      "execution_count": 9,
      "metadata": {
        "id": "1w4KrEoTuqCf"
      },
      "outputs": [],
      "source": [
        "import os\n",
        "import yagmail\n",
        "\n",
        "def send_email(sender_email, recipient_email, subject, message):\n",
        "    try:\n",
        "        # Fetch the password from environment variables\n",
        "        # sender_password = os.getenv('EMAIL_PASSWORD')\n",
        "        sender_password = \"vpqo qktv nqyv cxxy\"\n",
        "\n",
        "        if not sender_password:\n",
        "            print(\"Error: EMAIL_PASSWORD is not set in environment variables.\")\n",
        "            return\n",
        "\n",
        "        # Set up the yagmail client with your credentials\n",
        "        yag = yagmail.SMTP(user=sender_email, password=sender_password)\n",
        "\n",
        "        # Send the email\n",
        "        yag.send(to=recipient_email, subject=subject, contents=message)\n",
        "\n",
        "        print(\"Email sent successfully!\")\n",
        "    except Exception as e:\n",
        "        print(f\"Failed to send email. Error: {e}\")\n",
        "\n",
        "\n"
      ]
    },
    {
      "cell_type": "code",
      "execution_count": 10,
      "metadata": {
        "id": "5xRXIeB1yE8C"
      },
      "outputs": [],
      "source": [
        "from langgraph.graph import StateGraph, START, END\n",
        "\n",
        "workflow = StateGraph(State)"
      ]
    },
    {
      "cell_type": "code",
      "execution_count": 11,
      "metadata": {
        "colab": {
          "base_uri": "https://localhost:8080/"
        },
        "id": "BwaQnlmVVNpN",
        "outputId": "8b29a11e-9f31-4c56-c538-dbb51377c708"
      },
      "outputs": [
        {
          "data": {
            "text/plain": [
              "<langgraph.graph.state.StateGraph at 0x7d0cd7fc3810>"
            ]
          },
          "execution_count": 11,
          "metadata": {},
          "output_type": "execute_result"
        }
      ],
      "source": [
        "workflow.add_node(\"generate_summary\", generate_summary)\n",
        "workflow.add_node(\"categorize_experience\", categorize_experience)\n",
        "workflow.add_node(\"assess_skillset\", assess_skillset)\n",
        "workflow.add_node(\"extract_email\", extract_email)\n",
        "workflow.add_node(\"schedule_hr_interview\", schedule_hr_interview)\n",
        "workflow.add_node(\"escalate_to_recruiter\", escalate_to_recruiter)\n",
        "workflow.add_node(\"reject_application\", reject_application)"
      ]
    },
    {
      "cell_type": "code",
      "execution_count": 12,
      "metadata": {
        "id": "NYUGbwFzV2Ca"
      },
      "outputs": [],
      "source": [
        "def route_app(state: State) -> str:\n",
        "  if(state[\"skill_match\"] == \"Match\"):\n",
        "    return \"schedule_hr_interview\"\n",
        "  elif(state[\"experience_level\"] == \"Senior-level\"):\n",
        "    return \"escalate_to_recruiter\"\n",
        "  else:\n",
        "    return \"reject_application\""
      ]
    },
    {
      "cell_type": "code",
      "execution_count": 13,
      "metadata": {
        "colab": {
          "base_uri": "https://localhost:8080/"
        },
        "id": "6K-rX3tBWDS0",
        "outputId": "19fd15dd-c39b-4865-c2f2-5808202aaa32"
      },
      "outputs": [
        {
          "data": {
            "text/plain": [
              "<langgraph.graph.state.StateGraph at 0x7d0cd7fc3810>"
            ]
          },
          "execution_count": 13,
          "metadata": {},
          "output_type": "execute_result"
        }
      ],
      "source": [
        "workflow.add_edge(\"generate_summary\", \"categorize_experience\")\n",
        "workflow.add_edge(\"categorize_experience\", \"assess_skillset\")\n",
        "workflow.add_edge(\"assess_skillset\", \"extract_email\")\n",
        "workflow.add_conditional_edges(\"extract_email\", route_app)"
      ]
    },
    {
      "cell_type": "code",
      "execution_count": 14,
      "metadata": {
        "colab": {
          "base_uri": "https://localhost:8080/"
        },
        "id": "F4BIn77KWjr5",
        "outputId": "8f408e99-162f-478e-fe85-c40f4ec167e8"
      },
      "outputs": [
        {
          "data": {
            "text/plain": [
              "<langgraph.graph.state.StateGraph at 0x7d0cd7fc3810>"
            ]
          },
          "execution_count": 14,
          "metadata": {},
          "output_type": "execute_result"
        }
      ],
      "source": [
        "workflow.add_edge(START, \"generate_summary\")\n",
        "workflow.add_edge(\"extract_email\", END)\n",
        "workflow.add_edge(\"escalate_to_recruiter\", END)\n",
        "workflow.add_edge(\"reject_application\", END)\n",
        "workflow.add_edge(\"schedule_hr_interview\", END)"
      ]
    },
    {
      "cell_type": "code",
      "execution_count": 15,
      "metadata": {
        "id": "2KQCafS-XA4c"
      },
      "outputs": [],
      "source": [
        "app = workflow.compile()"
      ]
    },
    {
      "cell_type": "code",
      "execution_count": 16,
      "metadata": {
        "colab": {
          "base_uri": "https://localhost:8080/",
          "height": 647
        },
        "id": "6JJOh4bsXFVW",
        "outputId": "03c96b40-ca63-407a-c468-762d33776cc6"
      },
      "outputs": [
        {
          "data": {
            "image/png": "[encoded data removed]",
            "text/plain": [
              "<IPython.core.display.Image object>"
            ]
          },
          "metadata": {},
          "output_type": "display_data"
        }
      ],
      "source": [
        "from IPython.display import Image, display\n",
        "\n",
        "display(\n",
        "    Image(\n",
        "        app.get_graph().draw_mermaid_png()\n",
        "    )\n",
        ")"
      ]
    },
    {
      "cell_type": "code",
      "execution_count": 23,
      "metadata": {
        "colab": {
          "base_uri": "https://localhost:8080/",
          "height": 74
        },
        "id": "hZyvzGCrauEv",
        "outputId": "c633e713-21ff-415e-82c9-491b53c9f64b"
      },
      "outputs": [
        {
          "data": {
            "text/html": [
              "\n",
              "     <input type=\"file\" id=\"files-5fc16601-e340-4099-ba62-6330ef30e8fd\" name=\"files[]\" multiple disabled\n",
              "        style=\"border:none\" />\n",
              "     <output id=\"result-5fc16601-e340-4099-ba62-6330ef30e8fd\">\n",
              "      Upload widget is only available when the cell has been executed in the\n",
              "      current browser session. Please rerun this cell to enable.\n",
              "      </output>\n",
              "      <script>// Copyright 2017 Google LLC\n",
              "//\n",
              "// Licensed under the Apache License, Version 2.0 (the \"License\");\n",
              "// you may not use this file except in compliance with the License.\n",
              "// You may obtain a copy of the License at\n",
              "//\n",
              "//      http://www.apache.org/licenses/LICENSE-2.0\n",
              "//\n",
              "// Unless required by applicable law or agreed to in writing, software\n",
              "// distributed under the License is distributed on an \"AS IS\" BASIS,\n",
              "// WITHOUT WARRANTIES OR CONDITIONS OF ANY KIND, either express or implied.\n",
              "// See the License for the specific language governing permissions and\n",
              "// limitations under the License.\n",
              "\n",
              "/**\n",
              " * @fileoverview Helpers for google.colab Python module.\n",
              " */\n",
              "(function(scope) {\n",
              "function span(text, styleAttributes = {}) {\n",
              "  const element = document.createElement('span');\n",
              "  element.textContent = text;\n",
              "  for (const key of Object.keys(styleAttributes)) {\n",
              "    element.style[key] = styleAttributes[key];\n",
              "  }\n",
              "  return element;\n",
              "}\n",
              "\n",
              "// Max number of bytes which will be uploaded at a time.\n",
              "const MAX_PAYLOAD_SIZE = 100 * 1024;\n",
              "\n",
              "function _uploadFiles(inputId, outputId) {\n",
              "  const steps = uploadFilesStep(inputId, outputId);\n",
              "  const outputElement = document.getElementById(outputId);\n",
              "  // Cache steps on the outputElement to make it available for the next call\n",
              "  // to uploadFilesContinue from Python.\n",
              "  outputElement.steps = steps;\n",
              "\n",
              "  return _uploadFilesContinue(outputId);\n",
              "}\n",
              "\n",
              "// This is roughly an async generator (not supported in the browser yet),\n",
              "// where there are multiple asynchronous steps and the Python side is going\n",
              "// to poll for completion of each step.\n",
              "// This uses a Promise to block the python side on completion of each step,\n",
              "// then passes the result of the previous step as the input to the next step.\n",
              "function _uploadFilesContinue(outputId) {\n",
              "  const outputElement = document.getElementById(outputId);\n",
              "  const steps = outputElement.steps;\n",
              "\n",
              "  const next = steps.next(outputElement.lastPromiseValue);\n",
              "  return Promise.resolve(next.value.promise).then((value) => {\n",
              "    // Cache the last promise value to make it available to the next\n",
              "    // step of the generator.\n",
              "    outputElement.lastPromiseValue = value;\n",
              "    return next.value.response;\n",
              "  });\n",
              "}\n",
              "\n",
              "/**\n",
              " * Generator function which is called between each async step of the upload\n",
              " * process.\n",
              " * @param {string} inputId Element ID of the input file picker element.\n",
              " * @param {string} outputId Element ID of the output display.\n",
              " * @return {!Iterable<!Object>} Iterable of next steps.\n",
              " */\n",
              "function* uploadFilesStep(inputId, outputId) {\n",
              "  const inputElement = document.getElementById(inputId);\n",
              "  inputElement.disabled = false;\n",
              "\n",
              "  const outputElement = document.getElementById(outputId);\n",
              "  outputElement.innerHTML = '';\n",
              "\n",
              "  const pickedPromise = new Promise((resolve) => {\n",
              "    inputElement.addEventListener('change', (e) => {\n",
              "      resolve(e.target.files);\n",
              "    });\n",
              "  });\n",
              "\n",
              "  const cancel = document.createElement('button');\n",
              "  inputElement.parentElement.appendChild(cancel);\n",
              "  cancel.textContent = 'Cancel upload';\n",
              "  const cancelPromise = new Promise((resolve) => {\n",
              "    cancel.onclick = () => {\n",
              "      resolve(null);\n",
              "    };\n",
              "  });\n",
              "\n",
              "  // Wait for the user to pick the files.\n",
              "  const files = yield {\n",
              "    promise: Promise.race([pickedPromise, cancelPromise]),\n",
              "    response: {\n",
              "      action: 'starting',\n",
              "    }\n",
              "  };\n",
              "\n",
              "  cancel.remove();\n",
              "\n",
              "  // Disable the input element since further picks are not allowed.\n",
              "  inputElement.disabled = true;\n",
              "\n",
              "  if (!files) {\n",
              "    return {\n",
              "      response: {\n",
              "        action: 'complete',\n",
              "      }\n",
              "    };\n",
              "  }\n",
              "\n",
              "  for (const file of files) {\n",
              "    const li = document.createElement('li');\n",
              "    li.append(span(file.name, {fontWeight: 'bold'}));\n",
              "    li.append(span(\n",
              "        `(${file.type || 'n/a'}) - ${file.size} bytes, ` +\n",
              "        `last modified: ${\n",
              "            file.lastModifiedDate ? file.lastModifiedDate.toLocaleDateString() :\n",
              "                                    'n/a'} - `));\n",
              "    const percent = span('0% done');\n",
              "    li.appendChild(percent);\n",
              "\n",
              "    outputElement.appendChild(li);\n",
              "\n",
              "    const fileDataPromise = new Promise((resolve) => {\n",
              "      const reader = new FileReader();\n",
              "      reader.onload = (e) => {\n",
              "        resolve(e.target.result);\n",
              "      };\n",
              "      reader.readAsArrayBuffer(file);\n",
              "    });\n",
              "    // Wait for the data to be ready.\n",
              "    let fileData = yield {\n",
              "      promise: fileDataPromise,\n",
              "      response: {\n",
              "        action: 'continue',\n",
              "      }\n",
              "    };\n",
              "\n",
              "    // Use a chunked sending to avoid message size limits. See b/62115660.\n",
              "    let position = 0;\n",
              "    do {\n",
              "      const length = Math.min(fileData.byteLength - position, MAX_PAYLOAD_SIZE);\n",
              "      const chunk = new Uint8Array(fileData, position, length);\n",
              "      position += length;\n",
              "\n",
              "      const base64 = btoa(String.fromCharCode.apply(null, chunk));\n",
              "      yield {\n",
              "        response: {\n",
              "          action: 'append',\n",
              "          file: file.name,\n",
              "          data: base64,\n",
              "        },\n",
              "      };\n",
              "\n",
              "      let percentDone = fileData.byteLength === 0 ?\n",
              "          100 :\n",
              "          Math.round((position / fileData.byteLength) * 100);\n",
              "      percent.textContent = `${percentDone}% done`;\n",
              "\n",
              "    } while (position < fileData.byteLength);\n",
              "  }\n",
              "\n",
              "  // All done.\n",
              "  yield {\n",
              "    response: {\n",
              "      action: 'complete',\n",
              "    }\n",
              "  };\n",
              "}\n",
              "\n",
              "scope.google = scope.google || {};\n",
              "scope.google.colab = scope.google.colab || {};\n",
              "scope.google.colab._files = {\n",
              "  _uploadFiles,\n",
              "  _uploadFilesContinue,\n",
              "};\n",
              "})(self);\n",
              "</script> "
            ],
            "text/plain": [
              "<IPython.core.display.HTML object>"
            ]
          },
          "metadata": {},
          "output_type": "display_data"
        },
        {
          "name": "stdout",
          "output_type": "stream",
          "text": [
            "Saving interview.pdf to interview.pdf\n"
          ]
        }
      ],
      "source": [
        "from google.colab import files\n",
        "uploaded = files.upload()"
      ]
    },
    {
      "cell_type": "code",
      "execution_count": 24,
      "metadata": {
        "colab": {
          "base_uri": "https://localhost:8080/"
        },
        "id": "YRRm8xhdayQk",
        "outputId": "1e21214b-ac6c-48ad-985e-f8df9cbbeeaa"
      },
      "outputs": [
        {
          "name": "stdout",
          "output_type": "stream",
          "text": [
            "Requirement already satisfied: pymupdf in /usr/local/lib/python3.11/dist-packages (1.25.4)\n"
          ]
        }
      ],
      "source": [
        "!pip install pymupdf\n",
        "import fitz  # PyMuPDF\n",
        "\n",
        "def extract_text(pdf_path):\n",
        "    doc = fitz.open(pdf_path)\n",
        "    text = \"\\n\".join([page.get_text() for page in doc])\n",
        "    return text"
      ]
    },
    {
      "cell_type": "code",
      "execution_count": 25,
      "metadata": {
        "id": "608TGgPga5FN"
      },
      "outputs": [],
      "source": [
        "pdf_path=\"interview.pdf\""
      ]
    },
    {
      "cell_type": "code",
      "execution_count": 26,
      "metadata": {
        "colab": {
          "base_uri": "https://localhost:8080/"
        },
        "id": "6FBIkVAoa_rJ",
        "outputId": "dbc88557-cd1a-49bb-e121-a7c98414749a"
      },
      "outputs": [
        {
          "name": "stdout",
          "output_type": "stream",
          "text": [
            "Muheet Rahi\n",
            "§ | # muheetrahi@gmail.com | H +8801788497275\n",
            "Profile\n",
            "Dedicated Computer Science and Engineering (CSE) student at BUET, with a strong en-\n",
            "thusiasm for Machine Learning, Deep Learning, Generative AI, and Large Language Models. Driven\n",
            "by a passion for harnessing advanced AI technologies to solve real-world challenges, I am committed to\n",
            "continuous learning, research, and innovation in the field.\n",
            "Education\n",
            "2022 – Present\n",
            "BSc in Computer Science and Engineering, BUET Expected Graduation: March\n",
            "2026\n",
            "Currently in 3rd year (final examination ongoing)\n",
            "Current CGPA: 3.92\n",
            "2020\n",
            "HSC Board Examination (Rangpur Cadet College)\n",
            "GPA: 5.0\n",
            "2018\n",
            "SSC Board Examination (Rangpur Cadet College)\n",
            "GPA: 5.0\n",
            "Projects\n",
            "Medical Chatbot\n",
            "A Generative AI-based chatbot designed to provide medical assistance and information.\n",
            "Built using\n",
            "the open-source **LLaMA-2-7B** model for natural language understanding and response generation,\n",
            "integrated with **Pinecone VectorDB** for efficient semantic search and retrieval of medical knowledge.\n",
            "Potato Disease Classification DeepLearning\n",
            "A convolutional neural network project to detect and classify common potato diseases from images.\n",
            "Car price predictor ML\n",
            "Machine learning model using regression techniques to predict car prices based on key features.\n",
            "IPL Win predictor ML\n",
            "A data-driven project to predict match outcomes for Indian Premier League cricket using ML algorithms.\n",
            "GeminiAI Building ReactProject\n",
            "A React-based project showcasing AI-driven components for user interaction. The frontend is built with\n",
            "React, and Gemini API is called to retrieve responses.\n",
            "Compiler\n",
            "Developed a custom compiler in C++ that integrates a symbol table, implements lexical analysis, and uses\n",
            "Yacc for parsing. This demonstrates the fundamental steps of compiler construction, from tokenization\n",
            "and syntax analysis to semantic checks.\n",
            "JavaFX Project\n",
            "A second-year, first-term assignment showcasing GUI development in JavaFX (interactive panels, event\n",
            "handling, etc.).\n",
            "\n",
            "Experience\n",
            "I have experience working as a Python Developer for 4 years.\n",
            "Skills\n",
            "Programming Languages:\n",
            "C, C++,Python, Java, JavaScript, HTML, CSS\n",
            "Frameworks:\n",
            "Scikit-Learn,Langchain,Langgraph,React, Spring Boot, Node.js\n",
            "Databases:\n",
            "MySQL, Vector Databases\n",
            "Libraries & Tools:\n",
            "Shell Scripting, Cisco Packet Tracer\n",
            "Awards & Honors\n",
            "• Dean’s List (1st Year)\n",
            "For academic excellence.\n",
            "Extra-Curricular Activities\n",
            "• LeetCode Problem Solving\n",
            "Solved numerous coding challenges on LeetCode to improve algorithmic thinking and data-structure\n",
            "proficiency.\n",
            "• DL Sprint 3.0 by BUET\n",
            "Participated in a deep learning sprint organized by BUET, where I collaborated with peers on neural\n",
            "network projects and gained hands-on experience with state-of-the-art DL frameworks.\n",
            "• Kaggle Competitions\n",
            "Engaged in data science and machine learning competitions on Kaggle, exploring a variety of real-world\n",
            "datasets and competitive modeling challenges.\n",
            "Last updated: March 30, 2025\n",
            "\n"
          ]
        }
      ],
      "source": [
        "output=extract_text(pdf_path)\n",
        "print(output)"
      ]
    },
    {
      "cell_type": "code",
      "execution_count": 27,
      "metadata": {
        "id": "L_18I79XYj2i"
      },
      "outputs": [],
      "source": [
        "def run_candidate_screening(application: str):\n",
        "  results = app.invoke({\"application\" : application})\n",
        "  return {\n",
        "      \"experience_level\" : results[\"experience_level\"],\n",
        "      \"skill_match\" : results[\"skill_match\"],\n",
        "      \"email\" : results[\"email\"],\n",
        "      \"response\" : results[\"response\"]\n",
        "  }"
      ]
    },
    {
      "cell_type": "code",
      "execution_count": 28,
      "metadata": {
        "colab": {
          "base_uri": "https://localhost:8080/"
        },
        "id": "LfK7LZHdYu3L",
        "outputId": "96f0da7f-9d35-434c-cefb-73eaaa8a0da1"
      },
      "outputs": [
        {
          "name": "stdout",
          "output_type": "stream",
          "text": [
            "\n",
            "Generating summary of resume : \n",
            "Summary : ## Muheet Rahi Resume Summary:\n",
            "\n",
            "**Name:** Muheet Rahi\n",
            "\n",
            "**Contact:** \n",
            "    * Email: muheetrahi@gmail.com\n",
            "    * Phone: +8801788497275 \n",
            "    * LinkedIn:  *Not Provided*\n",
            "\n",
            "**Key Skills:**\n",
            "\n",
            "* Programming Languages: C, C++, Python, Java, JavaScript, HTML, CSS\n",
            "* Machine Learning: Scikit-Learn, Langchain, Langgraph\n",
            "* Deep Learning\n",
            "* Generative AI\n",
            "* Large Language Models (LLaMA-2-7B)\n",
            "* Frameworks: React, Spring Boot, Node.js\n",
            "* Databases: MySQL, Vector Databases\n",
            "* Tools: Shell Scripting, Cisco Packet Tracer\n",
            "\n",
            "**Work Experience:**\n",
            "\n",
            "* Python Developer (4 years experience) \n",
            "\n",
            "**Education:**\n",
            "\n",
            "*  BSc in Computer Science and Engineering, BUET (Expected Graduation: March 2026)\n",
            "    * Current CGPA: 3.92\n",
            "* HSC Board Examination, Rangpur Cadet College (GPA: 5.0)\n",
            "* SSC Board Examination, Rangpur Cadet College (GPA: 5.0)\n",
            "\n",
            "**Notable Projects:**\n",
            "\n",
            "* **Medical Chatbot:**  Generative AI chatbot using LLaMA-2-7B and Pinecone VectorDB for medical assistance. \n",
            "* **Potato Disease Classification Deep Learning:** Convolutional neural network for classifying potato diseases.\n",
            "* **Car Price Predictor ML:** Machine learning model predicting car prices using regression techniques.\n",
            "* **IPL Win Predictor ML:** Data-driven project predicting IPL match outcomes using machine learning.\n",
            "* **GeminiAI Building React Project:** React project integrating AI-driven components using the Gemini API.\n",
            "* **Compiler:** Custom C++ compiler with symbol table, lexical analysis, and Yacc parsing.\n",
            "* **JavaFX Project:** GUI development project showcasing interactive panels and event handling in JavaFX.\n",
            "\n",
            "**Achievements:**\n",
            "\n",
            "* Dean's List (1st Year) \n",
            "\n",
            "**Extra-Curricular Activities:**\n",
            "\n",
            "* LeetCode Problem Solving\n",
            "* DL Sprint 3.0 by BUET\n",
            "* Kaggle Competitions\n",
            "\n",
            "\n",
            "\n",
            "\n",
            "\n",
            "Categorizing the experience level of candidate : \n",
            "Experience Level : Based on the information provided, Muheet Rahi appears to be **Mid-level**. Here's why:\n",
            "\n",
            "* **4 Years of Experience:**  This places them beyond the typical entry-level range.\n",
            "* **Strong Technical Skills:**  The list of programming languages, frameworks, and AI/ML tools demonstrates a solid foundation and experience.\n",
            "* **Notable Projects:**  The projects showcase a range of skills and indicate experience applying them to real-world problems. \n",
            "* **Academic Background:** While still in school, the high CGPA and relevant coursework suggest a strong technical foundation.\n",
            "\n",
            "While they might not have the extensive experience of a senior-level candidate, their skills and project portfolio point towards a mid-level position. \n",
            "\n",
            "\n",
            "\n",
            "\n",
            "Assessing the skillset of candidate : \n",
            "Skill Match : Match \n",
            "\n",
            "\n",
            "Extracting the email of candidate : \n",
            "Email : muheetrahi@gmail.com\n",
            "Email sent successfully!\n",
            "\n",
            "\n",
            "Computed Results :\n",
            "Experience Level: Based on the information provided, Muheet Rahi appears to be **Mid-level**. Here's why:\n",
            "\n",
            "* **4 Years of Experience:**  This places them beyond the typical entry-level range.\n",
            "* **Strong Technical Skills:**  The list of programming languages, frameworks, and AI/ML tools demonstrates a solid foundation and experience.\n",
            "* **Notable Projects:**  The projects showcase a range of skills and indicate experience applying them to real-world problems. \n",
            "* **Academic Background:** While still in school, the high CGPA and relevant coursework suggest a strong technical foundation.\n",
            "\n",
            "While they might not have the extensive experience of a senior-level candidate, their skills and project portfolio point towards a mid-level position. \n",
            "\n",
            "\n",
            "\n",
            "Skill Match: Match \n",
            "\n",
            "Email: muheetrahi@gmail.com\n",
            "Response: Rejection email sent\n"
          ]
        }
      ],
      "source": [
        "results = run_candidate_screening(output)\n",
        "print(\"\\n\\nComputed Results :\")\n",
        "print(f\"Experience Level: {results['experience_level']}\")\n",
        "print(f\"Skill Match: {results['skill_match']}\")\n",
        "print(f\"Email: {results['email']}\")\n",
        "print(f\"Response: {results['response']}\")"
      ]
    },
    {
      "cell_type": "code",
      "execution_count": null,
      "metadata": {
        "id": "CSTM6_9mdMAv"
      },
      "outputs": [],
      "source": []
    }
  ],
  "metadata": {
    "accelerator": "GPU",
    "colab": {
      "gpuType": "T4",
      "provenance": []
    },
    "kernelspec": {
      "display_name": "Python 3",
      "name": "python3"
    },
    "language_info": {
      "name": "python"
    }
  },
  "nbformat": 4,
  "nbformat_minor": 0
}
